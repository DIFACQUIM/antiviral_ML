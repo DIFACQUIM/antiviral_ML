{
  "nbformat": 4,
  "nbformat_minor": 0,
  "metadata": {
    "colab": {
      "provenance": []
    },
    "kernelspec": {
      "name": "python3",
      "display_name": "Python 3"
    },
    "language_info": {
      "name": "python"
    }
  },
  "cells": [
    {
      "cell_type": "markdown",
      "source": [
        "#**Libraries Preparation**"
      ],
      "metadata": {
        "id": "JQpGMJzc6qV-"
      }
    },
    {
      "cell_type": "markdown",
      "source": [
        "##**1. Import pandas**"
      ],
      "metadata": {
        "id": "hdp8-U3_6z16"
      }
    },
    {
      "cell_type": "code",
      "source": [
        "import pandas as pd"
      ],
      "metadata": {
        "id": "-6P9uEnvcQ3X"
      },
      "execution_count": null,
      "outputs": []
    },
    {
      "cell_type": "markdown",
      "source": [
        "##**2. Load data sets**"
      ],
      "metadata": {
        "id": "wnNO8aR26_4a"
      }
    },
    {
      "cell_type": "code",
      "source": [
        "hrv = pd.read_csv('/content/drive/MyDrive/antivirals_machine_learning/Notebooks/Libraries/actives_per_target_per_consensus/cleaned_libraries_actives/ordered_libraries_actives/Libraries_upper_0.5/hrv_filtered_0.5.csv')\n",
        "iavm2 = pd.read_csv('/content/drive/MyDrive/antivirals_machine_learning/Notebooks/Libraries/actives_per_target_per_consensus/cleaned_libraries_actives/ordered_libraries_actives/Libraries_upper_0.5/iavm2_filtered_0.5.csv')\n",
        "iavneu = pd.read_csv('/content/drive/MyDrive/antivirals_machine_learning/Notebooks/Libraries/actives_per_target_per_consensus/cleaned_libraries_actives/ordered_libraries_actives/Libraries_upper_0.5/iavneu_filtered_0.5.csv')\n",
        "iavpoly = pd.read_csv('/content/drive/MyDrive/antivirals_machine_learning/Notebooks/Libraries/actives_per_target_per_consensus/cleaned_libraries_actives/ordered_libraries_actives/Libraries_upper_0.5/iavpoly_filtered_0.5.csv')\n",
        "ibv = pd.read_csv('/content/drive/MyDrive/antivirals_machine_learning/Notebooks/Libraries/actives_per_target_per_consensus/cleaned_libraries_actives/ordered_libraries_actives/Libraries_upper_0.5/ibv_filtered_0.5.csv')\n",
        "sars2 = pd.read_csv('/content/drive/MyDrive/antivirals_machine_learning/Notebooks/Libraries/actives_per_target_per_consensus/cleaned_libraries_actives/ordered_libraries_actives/Libraries_upper_0.5/sars2_filtered_0.5.csv')\n",
        "sars = pd.read_csv('/content/drive/MyDrive/antivirals_machine_learning/Notebooks/Libraries/actives_per_target_per_consensus/cleaned_libraries_actives/ordered_libraries_actives/Libraries_upper_0.5/sars_filtered_0.5.csv')\n"
      ],
      "metadata": {
        "id": "ld5e2YrlcUn2"
      },
      "execution_count": null,
      "outputs": []
    },
    {
      "cell_type": "markdown",
      "source": [
        "##**3. Prepare DataFrames**"
      ],
      "metadata": {
        "id": "xq_AjD9I9lBR"
      }
    },
    {
      "cell_type": "code",
      "source": [
        "# Define columns to keep for each target\n",
        "columns_hrv = [\n",
        "    'Canonical_SMILES_STD', 'ID', 'DB',\n",
        "    'consensus_hrv', 'HRV_Protease_Quartile_fp',\n",
        "    'HRV_Protease_Quartile_prop'\n",
        "]\n",
        "\n",
        "columns_iavm2 = [\n",
        "    'Canonical_SMILES_STD', 'ID', 'DB',\n",
        "    'consensus_iavm2', 'IAV_M2 proton channel_Quartile_fp',\n",
        "    'IAV_M2 proton channel_Quartile_prop'\n",
        "]\n",
        "\n",
        "columns_iavneu = [\n",
        "    'Canonical_SMILES_STD', 'ID', 'DB',\n",
        "    'consensus_iavneu', 'IAV_Neuraminidase_Quartile_fp',\n",
        "    'IAV_Neuraminidase_Quartile_prop'\n",
        "]\n",
        "\n",
        "columns_iavpoly = [\n",
        "    'Canonical_SMILES_STD', 'ID', 'DB',\n",
        "    'consensus_iavpoly', 'IAV_Polymerase (PA)_Quartile_fp',\n",
        "    'IAV_Polymerase (PA)_Quartile_prop'\n",
        "]\n",
        "\n",
        "columns_ibv = [\n",
        "    'Canonical_SMILES_STD', 'ID', 'DB',\n",
        "    'consensus_ibv', 'IBV_Neuraminidase_Quartile_fp',\n",
        "    'IBV_Neuraminidase_Quartile_prop'\n",
        "]\n",
        "\n",
        "columns_sars2 = [\n",
        "    'Canonical_SMILES_STD', 'ID', 'DB',\n",
        "    'consensus_sars2', 'SARS-CoV-2_Mpro_Quartile_fp',\n",
        "    'SARS-CoV-2_Mpro_Quartile_prop'\n",
        "]\n",
        "\n",
        "columns_sars = [\n",
        "    'Canonical_SMILES_STD', 'ID', 'DB',\n",
        "    'consensus_sars', 'SARS-CoV_Mpro_Quartile_fp',\n",
        "    'SARS-CoV_Mpro_Quartile_prop'\n",
        "]"
      ],
      "metadata": {
        "id": "2n_7zFzXcW5n"
      },
      "execution_count": null,
      "outputs": []
    },
    {
      "cell_type": "code",
      "source": [
        "# Filter columns for each target\n",
        "hrv = hrv[columns_hrv]\n",
        "iavm2 = iavm2[columns_iavm2]\n",
        "iavneu = iavneu[columns_iavneu]\n",
        "iavpoly = iavpoly[columns_iavpoly]\n",
        "ibv = ibv[columns_ibv]\n",
        "sars2 = sars2[columns_sars2]\n",
        "sars = sars[columns_sars]"
      ],
      "metadata": {
        "id": "1HtYa8gScbqv"
      },
      "execution_count": null,
      "outputs": []
    },
    {
      "cell_type": "code",
      "source": [
        "hrv.to_csv('/content/drive/MyDrive/antivirals_machine_learning/Notebooks/Libraries/actives_per_target_per_consensus/cleaned_libraries_actives/ordered_libraries_actives/Libraries_upper_0.5/Individual_libraries/filtered_col/hrv_filtered_with_scaffold.csv', index=False)\n",
        "iavm2.to_csv('/content/drive/MyDrive/antivirals_machine_learning/Notebooks/Libraries/actives_per_target_per_consensus/cleaned_libraries_actives/ordered_libraries_actives/Libraries_upper_0.5/Individual_libraries/filtered_col/iavm2_filtered_with_scaffold.csv', index=False)\n",
        "iavneu.to_csv('/content/drive/MyDrive/antivirals_machine_learning/Notebooks/Libraries/actives_per_target_per_consensus/cleaned_libraries_actives/ordered_libraries_actives/Libraries_upper_0.5/Individual_libraries/filtered_col/iavneu_filtered_with_scaffold.csv', index=False)\n",
        "iavpoly.to_csv('/content/drive/MyDrive/antivirals_machine_learning/Notebooks/Libraries/actives_per_target_per_consensus/cleaned_libraries_actives/ordered_libraries_actives/Libraries_upper_0.5/Individual_libraries/filtered_col/iavpoly_filtered_with_scaffold.csv', index=False)\n",
        "ibv.to_csv('/content/drive/MyDrive/antivirals_machine_learning/Notebooks/Libraries/actives_per_target_per_consensus/cleaned_libraries_actives/ordered_libraries_actives/Libraries_upper_0.5/Individual_libraries/filtered_col/ibv_filtered_with_scaffold.csv', index=False)\n",
        "sars2.to_csv('/content/drive/MyDrive/antivirals_machine_learning/Notebooks/Libraries/actives_per_target_per_consensus/cleaned_libraries_actives/ordered_libraries_actives/Libraries_upper_0.5/Individual_libraries/filtered_col/sars2_filtered_with_scaffold.csv', index=False)\n",
        "sars.to_csv('/content/drive/MyDrive/antivirals_machine_learning/Notebooks/Libraries/actives_per_target_per_consensus/cleaned_libraries_actives/ordered_libraries_actives/Libraries_upper_0.5/Individual_libraries/filtered_col/sars_filtered_with_scaffold.csv', index=False)"
      ],
      "metadata": {
        "id": "ZShfTxL6deVq"
      },
      "execution_count": null,
      "outputs": []
    },
    {
      "cell_type": "code",
      "source": [
        "# Load filtered data sets\n",
        "hrv = pd.read_csv('/content/drive/MyDrive/antivirals_machine_learning/Notebooks/Libraries/actives_per_target_per_consensus/cleaned_libraries_actives/ordered_libraries_actives/Libraries_upper_0.5/Individual_libraries/filtered_col/hrv_filtered_with_scaffold.csv')\n",
        "iavm2 = pd.read_csv('/content/drive/MyDrive/antivirals_machine_learning/Notebooks/Libraries/actives_per_target_per_consensus/cleaned_libraries_actives/ordered_libraries_actives/Libraries_upper_0.5/Individual_libraries/filtered_col/iavm2_filtered_with_scaffold.csv')\n",
        "iavneu = pd.read_csv('/content/drive/MyDrive/antivirals_machine_learning/Notebooks/Libraries/actives_per_target_per_consensus/cleaned_libraries_actives/ordered_libraries_actives/Libraries_upper_0.5/Individual_libraries/filtered_col/iavneu_filtered_with_scaffold.csv')\n",
        "iavpoly = pd.read_csv('/content/drive/MyDrive/antivirals_machine_learning/Notebooks/Libraries/actives_per_target_per_consensus/cleaned_libraries_actives/ordered_libraries_actives/Libraries_upper_0.5/Individual_libraries/filtered_col/iavpoly_filtered_with_scaffold.csv')\n",
        "ibv = pd.read_csv('/content/drive/MyDrive/antivirals_machine_learning/Notebooks/Libraries/actives_per_target_per_consensus/cleaned_libraries_actives/ordered_libraries_actives/Libraries_upper_0.5/Individual_libraries/filtered_col/ibv_filtered_with_scaffold.csv')\n",
        "sars2 = pd.read_csv('/content/drive/MyDrive/antivirals_machine_learning/Notebooks/Libraries/actives_per_target_per_consensus/cleaned_libraries_actives/ordered_libraries_actives/Libraries_upper_0.5/Individual_libraries/filtered_col/sars2_filtered_with_scaffold.csv')\n",
        "sars = pd.read_csv('/content/drive/MyDrive/antivirals_machine_learning/Notebooks/Libraries/actives_per_target_per_consensus/cleaned_libraries_actives/ordered_libraries_actives/Libraries_upper_0.5/Individual_libraries/filtered_col/sars_filtered_with_scaffold.csv')\n"
      ],
      "metadata": {
        "id": "Eb8922LJeLPJ"
      },
      "execution_count": null,
      "outputs": []
    },
    {
      "cell_type": "code",
      "source": [
        "# Load training data sets\n",
        "hrv_training = pd.read_csv('/content/drive/MyDrive/antivirals_machine_learning/Notebooks/model_test_2048/2_HRV_Protease/1_data_sets/train_HRV_Protease.csv')\n",
        "iavm2_training = pd.read_csv('/content/drive/MyDrive/antivirals_machine_learning/Notebooks/model_test_2048/3_IAV_M2 proton channel/1_data_sets/train_IAV_M2 proton channel.csv')\n",
        "iavneu_training = pd.read_csv('/content/drive/MyDrive/antivirals_machine_learning/Notebooks/model_test_2048/6_IAV_Neuraminidase/1_data_sets/train_IAV_Neuraminidase.csv')\n",
        "iavpoly_training = pd.read_csv('/content/drive/MyDrive/antivirals_machine_learning/Notebooks/model_test_2048/1_IAV_Polymerase (PA)/1_data_sets/train_IAV_Polymerase (PA).csv')\n",
        "ibv_training = pd.read_csv('/content/drive/MyDrive/antivirals_machine_learning/Notebooks/model_test_2048/7_IBV_Neuraminidase/1_data_sets/train_IBV_Neuraminidase.csv')\n",
        "sars2_training = pd.read_csv('/content/drive/MyDrive/antivirals_machine_learning/Notebooks/model_test_2048/5_SARS-CoV-2_Mpro/1_data_sets/train_SARS-CoV-2_Mpro.csv')\n",
        "sars_training = pd.read_csv('/content/drive/MyDrive/antivirals_machine_learning/Notebooks/model_test_2048/4_SARS-CoV_Mpro/1_data_sets/train_SARS-CoV_Mpro.csv')"
      ],
      "metadata": {
        "id": "zMgBTasRfJLf"
      },
      "execution_count": null,
      "outputs": []
    },
    {
      "cell_type": "code",
      "source": [
        "# Load retraining data sets\n",
        "hrv_retraining = pd.read_csv('/content/drive/MyDrive/antivirals_machine_learning/Notebooks/model_test_2048/0_full_data_sets/HRV_Protease_molecules.csv')\n",
        "iavm2_retraining = pd.read_csv('/content/drive/MyDrive/antivirals_machine_learning/Notebooks/model_test_2048/0_full_data_sets/IAV_M2 proton channel_molecules.csv')\n",
        "iavneu_retraining = pd.read_csv('/content/drive/MyDrive/antivirals_machine_learning/Notebooks/model_test_2048/0_full_data_sets/IAV_Neuraminidase_molecules.csv')\n",
        "iavpoly_retraining = pd.read_csv('/content/drive/MyDrive/antivirals_machine_learning/Notebooks/model_test_2048/0_full_data_sets/IAV_Polymerase (PA)_molecules.csv')\n",
        "ibv_retraining = pd.read_csv('/content/drive/MyDrive/antivirals_machine_learning/Notebooks/model_test_2048/0_full_data_sets/IBV_Neuraminidase_molecules.csv')\n",
        "sars2_retraining = pd.read_csv('/content/drive/MyDrive/antivirals_machine_learning/Notebooks/model_test_2048/0_full_data_sets/SARS-CoV-2_Mpro_molecules.csv')\n",
        "sars_retraining = pd.read_csv('/content/drive/MyDrive/antivirals_machine_learning/Notebooks/model_test_2048/0_full_data_sets/SARS-CoV_Mpro_molecules.csv')"
      ],
      "metadata": {
        "id": "rZYHz8VNkzn0"
      },
      "execution_count": null,
      "outputs": []
    },
    {
      "cell_type": "code",
      "source": [
        "# Create a new column that indicates the presence or absence of a compond in the training set\n",
        "hrv['Presence_in_training_set'] = hrv['Canonical_SMILES_STD'].isin(hrv_training['canonical_smiles_std']).astype(int)\n",
        "iavm2['Presence_in_training_set'] = iavm2['Canonical_SMILES_STD'].isin(iavm2_training['canonical_smiles_std']).astype(int)\n",
        "iavneu['Presence_in_training_set'] = iavneu['Canonical_SMILES_STD'].isin(iavneu_training['canonical_smiles_std']).astype(int)\n",
        "iavpoly['Presence_in_training_set'] = iavpoly['Canonical_SMILES_STD'].isin(iavpoly_training['canonical_smiles_std']).astype(int)\n",
        "ibv['Presence_in_training_set'] = ibv['Canonical_SMILES_STD'].isin(ibv_training['canonical_smiles_std']).astype(int)\n",
        "sars2['Presence_in_training_set'] = sars2['Canonical_SMILES_STD'].isin(sars2_training['canonical_smiles_std']).astype(int)\n",
        "sars['Presence_in_training_set'] = sars['Canonical_SMILES_STD'].isin(sars_training['canonical_smiles_std']).astype(int)\n",
        "\n",
        "print(hrv.head())\n",
        "print(iavm2.head())"
      ],
      "metadata": {
        "colab": {
          "base_uri": "https://localhost:8080/"
        },
        "id": "ig_9rkL5hAd1",
        "outputId": "7683156d-9279-4b05-e7f8-6b8da6d98869"
      },
      "execution_count": null,
      "outputs": [
        {
          "output_type": "stream",
          "name": "stdout",
          "text": [
            "                                Canonical_SMILES_STD              ID       DB  \\\n",
            "0   Cc1ccc(OC(C)C(=O)N(Cc2ccco2)C2CCS(=O)(=O)C2)cc1C  128017_OT_DLGC  OT_DLGC   \n",
            "1  CCOC(=O)c1ccc2c(c1)nc(SCc1cccc(C(=O)OC)c1)n2Cc...   34452_ChD_AvL  ChD_AvL   \n",
            "2         COc1ccc(-c2nc3s/c(=C/c4cccs4)c(=O)n3n2)cc1   99661_OT_DLGC  OT_DLGC   \n",
            "3  Cc1cc(=O)n2nc(CN(C(=O)c3ccco3)c3ccc(Cl)cc3)nc2...   22496_ChD_AvL  ChD_AvL   \n",
            "4  CC1=C(C(=O)OC(C)C)C(c2ccccc2[N+](=O)[O-])NC(=O)N1  100723_OT_DLGC  OT_DLGC   \n",
            "\n",
            "   consensus_hrv HRV_Protease_Quartile_fp HRV_Protease_Quartile_prop  \\\n",
            "0              3                       Q1                         Q1   \n",
            "1              3                       Q1                         Q1   \n",
            "2              3                       Q1                         Q1   \n",
            "3              3                       Q1                         Q1   \n",
            "4              3                       Q1                         Q1   \n",
            "\n",
            "   Presence_in_training_set  \n",
            "0                         0  \n",
            "1                         0  \n",
            "2                         0  \n",
            "3                         0  \n",
            "4                         0  \n",
            "                                Canonical_SMILES_STD  \\\n",
            "0   CCCS(=O)(=O)c1ncc(Cl)c(C(=O)Nc2nc3ccc(F)cc3s2)n1   \n",
            "1          CN(C)C(CNS(=O)(=O)c1ccc(Cl)s1)c1ccc(F)cc1   \n",
            "2  Cc1cccn2c(=O)c3cc(S(=O)(=O)c4ccc(F)cc4)c(=N)n(...   \n",
            "3      Cc1ccc(CNc2oc(-c3ccc(COc4ccccc4)o3)nc2C#N)cc1   \n",
            "4  O=C(c1cccs1)N1CCCc2ccc(NS(=O)(=O)c3ccc(Br)cc3)...   \n",
            "\n",
            "                             ID                DB  consensus_iavm2  \\\n",
            "0                108340_OT_DLGC           OT_DLGC                3   \n",
            "1                   7212_LC_BCL            LC_BCL                3   \n",
            "2  41376_OT_DLGC, 17208_LC_MASS  OT_DLGC, LC_MASS                3   \n",
            "3                 9850_LC_polsL          LC_polsL                3   \n",
            "4                  2294_ChD_AvL           ChD_AvL                3   \n",
            "\n",
            "  IAV_M2 proton channel_Quartile_fp IAV_M2 proton channel_Quartile_prop  \\\n",
            "0                                Q1                                  Q1   \n",
            "1                                Q1                                  Q1   \n",
            "2                                Q1                                  Q1   \n",
            "3                                Q1                                  Q1   \n",
            "4                                Q1                                  Q1   \n",
            "\n",
            "   Presence_in_training_set  \n",
            "0                         0  \n",
            "1                         0  \n",
            "2                         0  \n",
            "3                         0  \n",
            "4                         0  \n"
          ]
        }
      ]
    },
    {
      "cell_type": "code",
      "source": [
        "# Create a new column that indicates the presence or absence of a compond in the retraining set\n",
        "hrv['Presence_in_retraining_set'] = hrv['Canonical_SMILES_STD'].isin(hrv_retraining['canonical_smiles_std']).astype(int)\n",
        "iavm2['Presence_in_retraining_set'] = iavm2['Canonical_SMILES_STD'].isin(iavm2_retraining['canonical_smiles_std']).astype(int)\n",
        "iavneu['Presence_in_retraining_set'] = iavneu['Canonical_SMILES_STD'].isin(iavneu_retraining['canonical_smiles_std']).astype(int)\n",
        "iavpoly['Presence_in_retraining_set'] = iavpoly['Canonical_SMILES_STD'].isin(iavpoly_retraining['canonical_smiles_std']).astype(int)\n",
        "ibv['Presence_in_retraining_set'] = ibv['Canonical_SMILES_STD'].isin(ibv_retraining['canonical_smiles_std']).astype(int)\n",
        "sars2['Presence_in_retraining_set'] = sars2['Canonical_SMILES_STD'].isin(sars2_retraining['canonical_smiles_std']).astype(int)\n",
        "sars['Presence_in_retraining_set'] = sars['Canonical_SMILES_STD'].isin(sars_retraining['canonical_smiles_std']).astype(int)\n",
        "\n",
        "print(hrv.head())\n",
        "print(iavm2.head())"
      ],
      "metadata": {
        "colab": {
          "base_uri": "https://localhost:8080/"
        },
        "id": "M0sLLeKHkrA7",
        "outputId": "c437445c-112d-46f8-a102-ccb41a040fb4"
      },
      "execution_count": null,
      "outputs": [
        {
          "output_type": "stream",
          "name": "stdout",
          "text": [
            "                                Canonical_SMILES_STD              ID       DB  \\\n",
            "0   Cc1ccc(OC(C)C(=O)N(Cc2ccco2)C2CCS(=O)(=O)C2)cc1C  128017_OT_DLGC  OT_DLGC   \n",
            "1  CCOC(=O)c1ccc2c(c1)nc(SCc1cccc(C(=O)OC)c1)n2Cc...   34452_ChD_AvL  ChD_AvL   \n",
            "2         COc1ccc(-c2nc3s/c(=C/c4cccs4)c(=O)n3n2)cc1   99661_OT_DLGC  OT_DLGC   \n",
            "3  Cc1cc(=O)n2nc(CN(C(=O)c3ccco3)c3ccc(Cl)cc3)nc2...   22496_ChD_AvL  ChD_AvL   \n",
            "4  CC1=C(C(=O)OC(C)C)C(c2ccccc2[N+](=O)[O-])NC(=O)N1  100723_OT_DLGC  OT_DLGC   \n",
            "\n",
            "   consensus_hrv HRV_Protease_Quartile_fp HRV_Protease_Quartile_prop  \\\n",
            "0              3                       Q1                         Q1   \n",
            "1              3                       Q1                         Q1   \n",
            "2              3                       Q1                         Q1   \n",
            "3              3                       Q1                         Q1   \n",
            "4              3                       Q1                         Q1   \n",
            "\n",
            "   Presence_in_training_set  Presence_in_retraining_set  \n",
            "0                         0                           0  \n",
            "1                         0                           0  \n",
            "2                         0                           0  \n",
            "3                         0                           0  \n",
            "4                         0                           0  \n",
            "                                Canonical_SMILES_STD  \\\n",
            "0   CCCS(=O)(=O)c1ncc(Cl)c(C(=O)Nc2nc3ccc(F)cc3s2)n1   \n",
            "1          CN(C)C(CNS(=O)(=O)c1ccc(Cl)s1)c1ccc(F)cc1   \n",
            "2  Cc1cccn2c(=O)c3cc(S(=O)(=O)c4ccc(F)cc4)c(=N)n(...   \n",
            "3      Cc1ccc(CNc2oc(-c3ccc(COc4ccccc4)o3)nc2C#N)cc1   \n",
            "4  O=C(c1cccs1)N1CCCc2ccc(NS(=O)(=O)c3ccc(Br)cc3)...   \n",
            "\n",
            "                             ID                DB  consensus_iavm2  \\\n",
            "0                108340_OT_DLGC           OT_DLGC                3   \n",
            "1                   7212_LC_BCL            LC_BCL                3   \n",
            "2  41376_OT_DLGC, 17208_LC_MASS  OT_DLGC, LC_MASS                3   \n",
            "3                 9850_LC_polsL          LC_polsL                3   \n",
            "4                  2294_ChD_AvL           ChD_AvL                3   \n",
            "\n",
            "  IAV_M2 proton channel_Quartile_fp IAV_M2 proton channel_Quartile_prop  \\\n",
            "0                                Q1                                  Q1   \n",
            "1                                Q1                                  Q1   \n",
            "2                                Q1                                  Q1   \n",
            "3                                Q1                                  Q1   \n",
            "4                                Q1                                  Q1   \n",
            "\n",
            "   Presence_in_training_set  Presence_in_retraining_set  \n",
            "0                         0                           0  \n",
            "1                         0                           0  \n",
            "2                         0                           0  \n",
            "3                         0                           0  \n",
            "4                         0                           0  \n"
          ]
        }
      ]
    },
    {
      "cell_type": "code",
      "source": [
        "# Save filtered DataFrames with new columns\n",
        "hrv.to_csv('/content/drive/MyDrive/antivirals_machine_learning/Notebooks/Libraries/actives_per_target_per_consensus/cleaned_libraries_actives/ordered_libraries_actives/Libraries_upper_0.5/Individual_libraries/filtered_presence/hrv_filtered_with_presence.csv', index=False)\n",
        "iavm2.to_csv('/content/drive/MyDrive/antivirals_machine_learning/Notebooks/Libraries/actives_per_target_per_consensus/cleaned_libraries_actives/ordered_libraries_actives/Libraries_upper_0.5/Individual_libraries/filtered_presence/iavm2_filtered_with_presence.csv', index=False)\n",
        "iavneu.to_csv('/content/drive/MyDrive/antivirals_machine_learning/Notebooks/Libraries/actives_per_target_per_consensus/cleaned_libraries_actives/ordered_libraries_actives/Libraries_upper_0.5/Individual_libraries/filtered_presence/iavneu_filtered_with_presence.csv', index=False)\n",
        "iavpoly.to_csv('/content/drive/MyDrive/antivirals_machine_learning/Notebooks/Libraries/actives_per_target_per_consensus/cleaned_libraries_actives/ordered_libraries_actives/Libraries_upper_0.5/Individual_libraries/filtered_presence/iavpoly_filtered_with_presence.csv', index=False)\n",
        "ibv.to_csv('/content/drive/MyDrive/antivirals_machine_learning/Notebooks/Libraries/actives_per_target_per_consensus/cleaned_libraries_actives/ordered_libraries_actives/Libraries_upper_0.5/Individual_libraries/filtered_presence/ibv_filtered_with_presence.csv', index=False)\n",
        "sars2.to_csv('/content/drive/MyDrive/antivirals_machine_learning/Notebooks/Libraries/actives_per_target_per_consensus/cleaned_libraries_actives/ordered_libraries_actives/Libraries_upper_0.5/Individual_libraries/filtered_presence/sars2_filtered_with_presence.csv', index=False)\n",
        "sars.to_csv('/content/drive/MyDrive/antivirals_machine_learning/Notebooks/Libraries/actives_per_target_per_consensus/cleaned_libraries_actives/ordered_libraries_actives/Libraries_upper_0.5/Individual_libraries/filtered_presence/sars_filtered_with_presence.csv', index=False)"
      ],
      "metadata": {
        "id": "YoI5U-hxl3Sk"
      },
      "execution_count": null,
      "outputs": []
    },
    {
      "cell_type": "code",
      "source": [
        "# Rename columns\n",
        "hrv = hrv.rename(columns={'consensus_hrv': 'Consensus', 'HRV_Protease_Quartile_fp': 'Quartile_fp', \"HRV_Protease_Quartile_prop\": 'Quartile_prop', 'target': 'Target'})\n",
        "iavm2 = iavm2.rename(columns={'consensus_iavm2': 'Consensus', 'IAV_M2 proton channel_Quartile_fp': 'Quartile_fp', \"IAV_M2 proton channel_Quartile_prop\": 'Quartile_prop', 'target': 'Target'})\n",
        "iavneu = iavneu.rename(columns={'consensus_iavneu': 'Consensus', 'IAV_Neuraminidase_Quartile_fp': 'Quartile_fp', \"IAV_Neuraminidase_Quartile_prop\": 'Quartile_prop', 'target': 'Target'})\n",
        "iavpoly = iavpoly.rename(columns={'consensus_iavpoly': 'Consensus', 'IAV_Polymerase (PA)_Quartile_fp': 'Quartile_fp', \"IAV_Polymerase (PA)_Quartile_prop\": 'Quartile_prop', 'target': 'Target'})\n",
        "ibv = ibv.rename(columns={'consensus_ibv': 'Consensus', 'IBV_Neuraminidase_Quartile_fp': 'Quartile_fp', \"IBV_Neuraminidase_Quartile_prop\": 'Quartile_prop', 'target': 'Target'})\n",
        "sars2 = sars2.rename(columns={'consensus_sars2': 'Consensus', 'SARS-CoV-2_Mpro_Quartile_fp': 'Quartile_fp', \"SARS-CoV-2_Mpro_Quartile_prop\": 'Quartile_prop', 'target': 'Target'})\n",
        "sars = sars.rename(columns={'consensus_sars': 'Consensus', 'SARS-CoV_Mpro_Quartile_fp': 'Quartile_fp', \"SARS-CoV_Mpro_Quartile_prop\": 'Quartile_prop', 'target': 'Target'})"
      ],
      "metadata": {
        "id": "JtN343WZrW7M"
      },
      "execution_count": null,
      "outputs": []
    },
    {
      "cell_type": "code",
      "source": [
        "# Concat libraries\n",
        "all_libraries = pd.concat([hrv, iavm2, iavneu, iavpoly, ibv, sars2, sars], axis=0, ignore_index=True)\n",
        "\n",
        "print(all_libraries.head())\n",
        "print(all_libraries.shape)"
      ],
      "metadata": {
        "colab": {
          "base_uri": "https://localhost:8080/"
        },
        "id": "YR0QlgvRp72K",
        "outputId": "4095b3a9-15ba-4cc5-d35c-678c7dd0f2b4"
      },
      "execution_count": null,
      "outputs": [
        {
          "output_type": "stream",
          "name": "stdout",
          "text": [
            "                                Canonical_SMILES_STD              ID       DB  \\\n",
            "0   Cc1ccc(OC(C)C(=O)N(Cc2ccco2)C2CCS(=O)(=O)C2)cc1C  128017_OT_DLGC  OT_DLGC   \n",
            "1  CCOC(=O)c1ccc2c(c1)nc(SCc1cccc(C(=O)OC)c1)n2Cc...   34452_ChD_AvL  ChD_AvL   \n",
            "2         COc1ccc(-c2nc3s/c(=C/c4cccs4)c(=O)n3n2)cc1   99661_OT_DLGC  OT_DLGC   \n",
            "3  Cc1cc(=O)n2nc(CN(C(=O)c3ccco3)c3ccc(Cl)cc3)nc2...   22496_ChD_AvL  ChD_AvL   \n",
            "4  CC1=C(C(=O)OC(C)C)C(c2ccccc2[N+](=O)[O-])NC(=O)N1  100723_OT_DLGC  OT_DLGC   \n",
            "\n",
            "   Consensus Quartile_fp Quartile_prop  Presence_in_training_set  \\\n",
            "0          3          Q1            Q1                         0   \n",
            "1          3          Q1            Q1                         0   \n",
            "2          3          Q1            Q1                         0   \n",
            "3          3          Q1            Q1                         0   \n",
            "4          3          Q1            Q1                         0   \n",
            "\n",
            "   Presence_in_retraining_set Target  \n",
            "0                           0    HRV  \n",
            "1                           0    HRV  \n",
            "2                           0    HRV  \n",
            "3                           0    HRV  \n",
            "4                           0    HRV  \n",
            "(443493, 9)\n"
          ]
        }
      ]
    },
    {
      "cell_type": "code",
      "source": [
        "# Save as csv\n",
        "all_libraries.to_csv('/content/drive/MyDrive/antivirals_machine_learning/Notebooks/Libraries/actives_per_target_per_consensus/cleaned_libraries_actives/ordered_libraries_actives/Libraries_upper_0.5/Individual_libraries/all_libraries.csv', index=False)\n"
      ],
      "metadata": {
        "id": "3926M6nLn8hK"
      },
      "execution_count": null,
      "outputs": []
    }
  ]
}