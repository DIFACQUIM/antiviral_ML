{
  "nbformat": 4,
  "nbformat_minor": 0,
  "metadata": {
    "colab": {
      "provenance": []
    },
    "kernelspec": {
      "name": "python3",
      "display_name": "Python 3"
    },
    "language_info": {
      "name": "python"
    }
  },
  "cells": [
    {
      "cell_type": "markdown",
      "source": [
        "#**Antiviral libraries**"
      ],
      "metadata": {
        "id": "F-ftVif3Rq1E"
      }
    },
    {
      "cell_type": "markdown",
      "source": [
        "##**1. Prepare the environment**"
      ],
      "metadata": {
        "id": "UWplzYbkR1jY"
      }
    },
    {
      "cell_type": "code",
      "execution_count": 1,
      "metadata": {
        "colab": {
          "base_uri": "https://localhost:8080/"
        },
        "id": "zMFwTu01Nw86",
        "outputId": "e29318cd-8094-4f97-e6b9-9ea2a7e23e66"
      },
      "outputs": [
        {
          "output_type": "stream",
          "name": "stdout",
          "text": [
            "Requirement already satisfied: rdkit in /usr/local/lib/python3.11/dist-packages (2024.9.5)\n",
            "Requirement already satisfied: numpy in /usr/local/lib/python3.11/dist-packages (from rdkit) (1.26.4)\n",
            "Requirement already satisfied: Pillow in /usr/local/lib/python3.11/dist-packages (from rdkit) (11.1.0)\n",
            "Drive already mounted at /content/drive; to attempt to forcibly remount, call drive.mount(\"/content/drive\", force_remount=True).\n"
          ]
        }
      ],
      "source": [
        "!pip install rdkit\n",
        "import pandas as pd\n",
        "from google.colab import drive\n",
        "drive.mount(\"/content/drive\")\n",
        "from rdkit import Chem, DataStructs\n",
        "from rdkit.Chem import AllChem, Draw, PandasTools, Descriptors, Descriptors3D, rdMolDescriptors, Scaffolds\n",
        "from rdkit.Chem.Scaffolds.MurckoScaffold import GetScaffoldForMol\n",
        "PandasTools.RenderImagesInAllDataFrames(images = True) # to molecules visualization\n",
        "from rdkit.Chem.Draw import IPythonConsole\n",
        "import numpy as np"
      ]
    },
    {
      "cell_type": "markdown",
      "source": [
        "##**2. Load data sets**"
      ],
      "metadata": {
        "id": "vPmCMsc8R71n"
      }
    },
    {
      "cell_type": "code",
      "source": [
        "# Save filtered DataFrames with new columns\n",
        "hrv= pd.read_csv('/content/drive/MyDrive/antivirals_machine_learning/Notebooks/Libraries/actives_per_target_per_consensus/cleaned_libraries_actives/ordered_libraries_actives/Libraries_upper_0.5/Individual_libraries/filtered_presence/hrv_filtered_with_presence.csv')\n",
        "iavm2= pd.read_csv('/content/drive/MyDrive/antivirals_machine_learning/Notebooks/Libraries/actives_per_target_per_consensus/cleaned_libraries_actives/ordered_libraries_actives/Libraries_upper_0.5/Individual_libraries/filtered_presence/iavm2_filtered_with_presence.csv')\n",
        "iavneu= pd.read_csv('/content/drive/MyDrive/antivirals_machine_learning/Notebooks/Libraries/actives_per_target_per_consensus/cleaned_libraries_actives/ordered_libraries_actives/Libraries_upper_0.5/Individual_libraries/filtered_presence/iavneu_filtered_with_presence.csv')\n",
        "iavpoly= pd.read_csv('/content/drive/MyDrive/antivirals_machine_learning/Notebooks/Libraries/actives_per_target_per_consensus/cleaned_libraries_actives/ordered_libraries_actives/Libraries_upper_0.5/Individual_libraries/filtered_presence/iavpoly_filtered_with_presence.csv')\n",
        "ibv= pd.read_csv('/content/drive/MyDrive/antivirals_machine_learning/Notebooks/Libraries/actives_per_target_per_consensus/cleaned_libraries_actives/ordered_libraries_actives/Libraries_upper_0.5/Individual_libraries/filtered_presence/ibv_filtered_with_presence.csv')\n",
        "sars2= pd.read_csv('/content/drive/MyDrive/antivirals_machine_learning/Notebooks/Libraries/actives_per_target_per_consensus/cleaned_libraries_actives/ordered_libraries_actives/Libraries_upper_0.5/Individual_libraries/filtered_presence/sars2_filtered_with_presence.csv')\n",
        "sars= pd.read_csv('/content/drive/MyDrive/antivirals_machine_learning/Notebooks/Libraries/actives_per_target_per_consensus/cleaned_libraries_actives/ordered_libraries_actives/Libraries_upper_0.5/Individual_libraries/filtered_presence/sars_filtered_with_presence.csv')"
      ],
      "metadata": {
        "id": "YoI5U-hxl3Sk"
      },
      "execution_count": 2,
      "outputs": []
    },
    {
      "cell_type": "code",
      "source": [
        "print(hrv.columns)"
      ],
      "metadata": {
        "colab": {
          "base_uri": "https://localhost:8080/"
        },
        "id": "3EwSJSIiSs2m",
        "outputId": "0a8fbe2b-4e46-4a70-9152-e7631abe2e52"
      },
      "execution_count": 3,
      "outputs": [
        {
          "output_type": "stream",
          "name": "stdout",
          "text": [
            "Index(['Canonical_SMILES_STD', 'ID', 'DB', 'consensus_hrv',\n",
            "       'HRV_Protease_Quartile_fp', 'HRV_Protease_Quartile_prop',\n",
            "       'Presence_in_training_set', 'Presence_in_retraining_set'],\n",
            "      dtype='object')\n"
          ]
        }
      ]
    },
    {
      "cell_type": "code",
      "source": [
        "hrv['Target'] = 'HRV_Protease'\n",
        "iavm2['Target'] = 'IAV_M2 proton channel'\n",
        "iavneu['Target'] = 'IAV_Neuraminidase'\n",
        "iavpoly['Target'] = 'IAV_Polymerase (PA)'\n",
        "ibv['Target'] = 'IBV_Neuraminidase'\n",
        "sars2['Target'] = 'SARS-CoV-2_Mpro'\n",
        "sars['Target'] = 'SARs-CoV_Mpro'"
      ],
      "metadata": {
        "id": "fkfFH94yT32v"
      },
      "execution_count": 4,
      "outputs": []
    },
    {
      "cell_type": "code",
      "source": [
        "# Rename columns\n",
        "hrv = hrv.rename(columns={'consensus_hrv': 'Consensus', 'HRV_Protease_Quartile_fp': 'Quartile_fp', \"HRV_Protease_Quartile_prop\": 'Quartile_prop'})\n",
        "iavm2 = iavm2.rename(columns={'consensus_iavm2': 'Consensus', 'IAV_M2 proton channel_Quartile_fp': 'Quartile_fp', \"IAV_M2 proton channel_Quartile_prop\": 'Quartile_prop'})\n",
        "iavneu = iavneu.rename(columns={'consensus_iavneu': 'Consensus', 'IAV_Neuraminidase_Quartile_fp': 'Quartile_fp', \"IAV_Neuraminidase_Quartile_prop\": 'Quartile_prop'})\n",
        "iavpoly = iavpoly.rename(columns={'consensus_iavpoly': 'Consensus', 'IAV_Polymerase (PA)_Quartile_fp': 'Quartile_fp', \"IAV_Polymerase (PA)_Quartile_prop\": 'Quartile_prop'})\n",
        "ibv = ibv.rename(columns={'consensus_ibv': 'Consensus', 'IBV_Neuraminidase_Quartile_fp': 'Quartile_fp', \"IBV_Neuraminidase_Quartile_prop\": 'Quartile_prop'})\n",
        "sars2 = sars2.rename(columns={'consensus_sars2': 'Consensus', 'SARS-CoV-2_Mpro_Quartile_fp': 'Quartile_fp', \"SARS-CoV-2_Mpro_Quartile_prop\": 'Quartile_prop'})\n",
        "sars = sars.rename(columns={'consensus_sars': 'Consensus', 'SARS-CoV_Mpro_Quartile_fp': 'Quartile_fp', \"SARS-CoV_Mpro_Quartile_prop\": 'Quartile_prop'})"
      ],
      "metadata": {
        "id": "VxGUKrtufWwJ"
      },
      "execution_count": 5,
      "outputs": []
    },
    {
      "cell_type": "markdown",
      "source": [
        "##**3. Generate scaffolds**"
      ],
      "metadata": {
        "id": "tE4BKoLUWaCj"
      }
    },
    {
      "cell_type": "code",
      "source": [
        "# Dictionary according to each loaded DataFrame\n",
        "dataframes = {\n",
        "    \"HRV_protease_library.csv\": hrv,\n",
        "    \"IAV_M2_proton_channel_library.csv\": iavm2,\n",
        "    \"IAV_Neuraminidase_library.csv\": iavneu,\n",
        "    \"IAV_Polymerase (PA)_library.csv\": iavpoly,\n",
        "    \"IBV_Neuraminidase_library.csv\": ibv,\n",
        "    \"SARS-CoV-2_library.csv\": sars2,\n",
        "    \"SARS-CoV_library.csv\": sars\n",
        "}\n",
        "\n",
        "# Set groups of 3 to optimize memory\n",
        "df_keys = list(dataframes.keys())\n",
        "batch_size = 3  # Change it to 2 or 1\n",
        "\n",
        "for i in range(0, len(df_keys), batch_size):\n",
        "    batch = df_keys[i:i+batch_size]  # subset of 3\n",
        "\n",
        "    for filename in batch:\n",
        "        df = dataframes[filename]  # Obtain DataFrame\n",
        "\n",
        "        # Add molecule and scaffolds\n",
        "        PandasTools.AddMoleculeColumnToFrame(df, smilesCol=\"Canonical_SMILES_STD\", molCol=\"MOL\")\n",
        "        PandasTools.AddMurckoToFrame(df, molCol=\"MOL\", MurckoCol=\"SCAFFOLD\")\n",
        "\n",
        "        # Relocate 'SCAFFOLD' column\n",
        "        col_order = df.columns.tolist()\n",
        "        col_order.insert(col_order.index(\"Canonical_SMILES_STD\") + 1, col_order.pop(col_order.index(\"SCAFFOLD\")))\n",
        "        df = df[col_order]  # Reorder\n",
        "\n",
        "        # Delate mol columns\n",
        "        df.drop(columns=[\"MOL\", \"SCA_MOL\"], errors=\"ignore\", inplace=True)\n",
        "\n",
        "        # Save DataFrame\n",
        "        df.to_csv(filename, index=False)\n",
        "\n",
        "        print(f\"Saved: {filename}\")\n",
        "\n",
        "    print(\"Freeing memory...\\n\")"
      ],
      "metadata": {
        "colab": {
          "base_uri": "https://localhost:8080/"
        },
        "id": "x5HWfFafjOvK",
        "outputId": "f5a52a3f-054f-4004-b2f5-f41fc2b64d22"
      },
      "execution_count": null,
      "outputs": [
        {
          "output_type": "stream",
          "name": "stderr",
          "text": [
            "<ipython-input-6-e49ebc4a514a>:32: SettingWithCopyWarning: \n",
            "A value is trying to be set on a copy of a slice from a DataFrame\n",
            "\n",
            "See the caveats in the documentation: https://pandas.pydata.org/pandas-docs/stable/user_guide/indexing.html#returning-a-view-versus-a-copy\n",
            "  df.drop(columns=[\"MOL\", \"SCA_MOL\"], errors=\"ignore\", inplace=True)\n"
          ]
        },
        {
          "output_type": "stream",
          "name": "stdout",
          "text": [
            "Saved: HRV_protease_library.csv\n"
          ]
        },
        {
          "output_type": "stream",
          "name": "stderr",
          "text": [
            "<ipython-input-6-e49ebc4a514a>:32: SettingWithCopyWarning: \n",
            "A value is trying to be set on a copy of a slice from a DataFrame\n",
            "\n",
            "See the caveats in the documentation: https://pandas.pydata.org/pandas-docs/stable/user_guide/indexing.html#returning-a-view-versus-a-copy\n",
            "  df.drop(columns=[\"MOL\", \"SCA_MOL\"], errors=\"ignore\", inplace=True)\n"
          ]
        },
        {
          "output_type": "stream",
          "name": "stdout",
          "text": [
            "Saved: IAV_M2_proton_channel_library.csv\n"
          ]
        },
        {
          "output_type": "stream",
          "name": "stderr",
          "text": [
            "<ipython-input-6-e49ebc4a514a>:32: SettingWithCopyWarning: \n",
            "A value is trying to be set on a copy of a slice from a DataFrame\n",
            "\n",
            "See the caveats in the documentation: https://pandas.pydata.org/pandas-docs/stable/user_guide/indexing.html#returning-a-view-versus-a-copy\n",
            "  df.drop(columns=[\"MOL\", \"SCA_MOL\"], errors=\"ignore\", inplace=True)\n"
          ]
        },
        {
          "output_type": "stream",
          "name": "stdout",
          "text": [
            "Saved: IAV_Neuraminidase_library.csv\n",
            "Freeing memory...\n",
            "\n"
          ]
        },
        {
          "output_type": "stream",
          "name": "stderr",
          "text": [
            "<ipython-input-6-e49ebc4a514a>:32: SettingWithCopyWarning: \n",
            "A value is trying to be set on a copy of a slice from a DataFrame\n",
            "\n",
            "See the caveats in the documentation: https://pandas.pydata.org/pandas-docs/stable/user_guide/indexing.html#returning-a-view-versus-a-copy\n",
            "  df.drop(columns=[\"MOL\", \"SCA_MOL\"], errors=\"ignore\", inplace=True)\n"
          ]
        },
        {
          "output_type": "stream",
          "name": "stdout",
          "text": [
            "Saved: IAV_Polymerase (PA)_library.csv\n"
          ]
        },
        {
          "output_type": "stream",
          "name": "stderr",
          "text": [
            "<ipython-input-6-e49ebc4a514a>:32: SettingWithCopyWarning: \n",
            "A value is trying to be set on a copy of a slice from a DataFrame\n",
            "\n",
            "See the caveats in the documentation: https://pandas.pydata.org/pandas-docs/stable/user_guide/indexing.html#returning-a-view-versus-a-copy\n",
            "  df.drop(columns=[\"MOL\", \"SCA_MOL\"], errors=\"ignore\", inplace=True)\n"
          ]
        },
        {
          "output_type": "stream",
          "name": "stdout",
          "text": [
            "Saved: IBV_Neuraminidase_library.csv\n"
          ]
        },
        {
          "output_type": "stream",
          "name": "stderr",
          "text": [
            "<ipython-input-6-e49ebc4a514a>:32: SettingWithCopyWarning: \n",
            "A value is trying to be set on a copy of a slice from a DataFrame\n",
            "\n",
            "See the caveats in the documentation: https://pandas.pydata.org/pandas-docs/stable/user_guide/indexing.html#returning-a-view-versus-a-copy\n",
            "  df.drop(columns=[\"MOL\", \"SCA_MOL\"], errors=\"ignore\", inplace=True)\n"
          ]
        }
      ]
    }
  ]
}